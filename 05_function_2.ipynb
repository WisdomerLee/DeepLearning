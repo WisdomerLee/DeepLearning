{
  "nbformat": 4,
  "nbformat_minor": 0,
  "metadata": {
    "kernelspec": {
      "display_name": "Python 3",
      "language": "python",
      "name": "python3"
    },
    "language_info": {
      "codemirror_mode": {
        "name": "ipython",
        "version": 3
      },
      "file_extension": ".py",
      "mimetype": "text/x-python",
      "name": "python",
      "nbconvert_exporter": "python",
      "pygments_lexer": "ipython3",
      "version": "3.7.6"
    },
    "colab": {
      "name": "05_function_2.ipynb",
      "provenance": [],
      "include_colab_link": true
    }
  },
  "cells": [
    {
      "cell_type": "markdown",
      "metadata": {
        "id": "view-in-github",
        "colab_type": "text"
      },
      "source": [
        "<a href=\"https://colab.research.google.com/github/WisdomerLee/DeepLearning/blob/main/05_function_2.ipynb\" target=\"_parent\"><img src=\"https://colab.research.google.com/assets/colab-badge.svg\" alt=\"Open In Colab\"/></a>"
      ]
    },
    {
      "cell_type": "markdown",
      "metadata": {
        "id": "MndAJlvymNpC"
      },
      "source": [
        "### `%reset` error\n",
        "```\n",
        "jupyter notebook error:root:invalid alias: the name man can't be aliased because it is another magic command.\n",
        "```\n"
      ]
    },
    {
      "cell_type": "markdown",
      "metadata": {
        "id": "KNufCE0ZmNpD"
      },
      "source": [
        "### Summary\n",
        " - 조건문\n",
        "  - if, else, elif\n",
        "  - 특정 조건에 따라 코드를 실행하고 싶을 때 사용\n",
        " - 반복문\n",
        "  - while, for\n",
        "  - 특정 코드를 반복적으로 실행할 때\n",
        "  - continue, break\n",
        "  "
      ]
    },
    {
      "cell_type": "code",
      "metadata": {
        "id": "Ch8lUwHOmNpD",
        "outputId": "54413fb5-ca3a-4d98-d3cb-1cd27fbe80fd"
      },
      "source": [
        "#문장을 입력받아서 문법에 맞도록 결과를 출력하는 코드 작성\n",
        "# Python Language IS the best language\n",
        "# str.upper(), str.lower(), offset index[], str.__add__\n",
        "\n",
        "# 문자열 입력\n",
        "sentence = input(\"input sentence :\")\n",
        "# 모두 소문자로 변경\n",
        "result = sentence.lower()\n",
        "# 가장 앞글자를 대문자로 변경\n",
        "result = result[0].upper() + result[1:]\n",
        "# 마지막 문자가.인지 확인하고 .이 아니면 .를 추가\n",
        "\n",
        "if result[-1] !=\".\":\n",
        "    result +=\".\"\n",
        "\n",
        "result"
      ],
      "execution_count": null,
      "outputs": [
        {
          "output_type": "stream",
          "text": [
            "input sentence :f\n"
          ],
          "name": "stdout"
        },
        {
          "output_type": "execute_result",
          "data": {
            "text/plain": [
              "'F.'"
            ]
          },
          "metadata": {
            "tags": []
          },
          "execution_count": 1
        }
      ]
    },
    {
      "cell_type": "code",
      "metadata": {
        "id": "Vvo75a8ImNpD",
        "outputId": "bc3dc139-bf34-4acb-d7d5-0bd1f73cf099"
      },
      "source": [
        "# 6자리 로또 번호를 생성하는 코드 작성\n",
        "# 6자리는 중복이 없어야 함\n",
        "# 문자열, 숫자, 리스트\n",
        "# while, not in, in, list.append(), break, len()\n",
        "import random\n",
        "\n",
        "nums=[]\n",
        "\n",
        "\n",
        "\n",
        "while (len(nums)<=6):\n",
        "    num = random.randint(1,45)\n",
        "    #중복되지 않으면 추가\n",
        "    if num not in nums:\n",
        "        nums.append(num)\n",
        "    nums.sort()\n",
        "\n",
        "nums"
      ],
      "execution_count": null,
      "outputs": [
        {
          "output_type": "execute_result",
          "data": {
            "text/plain": [
              "[2, 9, 19, 20, 22, 25, 36]"
            ]
          },
          "metadata": {
            "tags": []
          },
          "execution_count": 2
        }
      ]
    },
    {
      "cell_type": "markdown",
      "metadata": {
        "id": "dGLAIC3lmNpE"
      },
      "source": [
        "- 함수\n",
        " - 중복되는 코드를 묶어 효율적으로 코드를 작성하기 위해 사용\\\n",
        " - 기본함수: 선언(def), 호출(func_name())\n",
        " - argument, parameter, keyword arg, default parameter\n",
        " - return\n",
        " - `*args`, `**kwargs`\n",
        " "
      ]
    },
    {
      "cell_type": "markdown",
      "metadata": {
        "id": "8I4tff9XmNpE"
      },
      "source": [
        "# 함수 2\n",
        " - docstring\n",
        " - scope\n",
        " - inner function\n",
        " - lambda function\n",
        " - map, filter, reduce\n",
        " - decorlator"
      ]
    },
    {
      "cell_type": "markdown",
      "metadata": {
        "id": "e16_MLp-mNpE"
      },
      "source": [
        "### 1. Docstring\n",
        " - 함수의 설명을 작성"
      ]
    },
    {
      "cell_type": "code",
      "metadata": {
        "id": "8Ap5Wl1TmNpE"
      },
      "source": [
        "def echo(msg):\n",
        "    \"echo print msg\"#함수 정의 밑에 문자열로 정의하는 형태\n",
        "    print(msg)"
      ],
      "execution_count": null,
      "outputs": []
    },
    {
      "cell_type": "code",
      "metadata": {
        "id": "yhE44jMxmNpE"
      },
      "source": [
        "def echo(msg):\n",
        "    \"\"\"\n",
        "    echo func return its input argument\n",
        "    The operation is:\n",
        "       1.print msg\n",
        "       2.return msg parameter\n",
        "    param : msg : str\n",
        "    return : str\n",
        "    \"\"\"\n",
        "    print(msg)\n",
        "    return msg"
      ],
      "execution_count": null,
      "outputs": []
    },
    {
      "cell_type": "code",
      "metadata": {
        "id": "76GCpXPomNpE",
        "outputId": "97acda19-c630-421a-8594-296a9b448f51"
      },
      "source": [
        "echo #docstring 확인법 : shift+tab\n",
        "#docstring확인법\n",
        "echo?\n",
        "#소스코드 보여줌\n",
        "echo??\n",
        "help(echo)"
      ],
      "execution_count": null,
      "outputs": [
        {
          "output_type": "stream",
          "text": [
            "Help on function echo in module __main__:\n",
            "\n",
            "echo(msg)\n",
            "    echo func return its input argument\n",
            "    The operation is:\n",
            "       1.print msg\n",
            "       2.return msg parameter\n",
            "    param : msg : str\n",
            "    return : str\n",
            "\n"
          ],
          "name": "stdout"
        }
      ]
    },
    {
      "cell_type": "code",
      "metadata": {
        "id": "Wo8PiQ3BmNpE",
        "outputId": "33df2ca0-ca84-4e6c-8153-f26237e58545"
      },
      "source": [
        "#docstring 확인방법\n",
        "print(echo.__doc__)"
      ],
      "execution_count": null,
      "outputs": [
        {
          "output_type": "stream",
          "text": [
            "\n",
            "    echo func return its input argument\n",
            "    The operation is:\n",
            "       1.print msg\n",
            "       2.return msg parameter\n",
            "    param : msg : str\n",
            "    return : str\n",
            "    \n"
          ],
          "name": "stdout"
        }
      ]
    },
    {
      "cell_type": "markdown",
      "metadata": {
        "id": "NgiU3gJvmNpE"
      },
      "source": [
        "### 2. Scope 범위\n",
        " - 함수 안에서 선언되는 변수/함수 밖에서 선언되는 변수의 범위가 다름\n",
        " - global(전역), local(지역)"
      ]
    },
    {
      "cell_type": "code",
      "metadata": {
        "id": "9hpbbzuamNpE",
        "outputId": "e1fa819c-5854-43ec-b7aa-867e0930725c"
      },
      "source": [
        "# global\n",
        "\n",
        "gv = 10\n",
        "\n",
        "def echo():\n",
        "    print(gv)\n",
        "\n",
        "echo()"
      ],
      "execution_count": null,
      "outputs": [
        {
          "output_type": "stream",
          "text": [
            "10\n"
          ],
          "name": "stdout"
        }
      ]
    },
    {
      "cell_type": "code",
      "metadata": {
        "id": "cBkMjTBSmNpE",
        "outputId": "742ebea7-432e-4d31-94d5-0fbcfca93793"
      },
      "source": [
        "#local\n",
        "gv = 10\n",
        "\n",
        "def echo():\n",
        "    gv = 100\n",
        "    print(gv)\n",
        "\n",
        "echo()\n",
        "gv #100"
      ],
      "execution_count": null,
      "outputs": [
        {
          "output_type": "stream",
          "text": [
            "100\n"
          ],
          "name": "stdout"
        },
        {
          "output_type": "execute_result",
          "data": {
            "text/plain": [
              "10"
            ]
          },
          "metadata": {
            "tags": []
          },
          "execution_count": 8
        }
      ]
    },
    {
      "cell_type": "code",
      "metadata": {
        "id": "pOMJCjEWmNpE",
        "outputId": "3c71fab5-74c6-420f-dd77-42463e0945e6"
      },
      "source": [
        "#local\n",
        "gv = 10\n",
        "\n",
        "def echo():\n",
        "    global gv #글로벌 gv를 사용> 변경값 적용 전역변수를 참조해서 사용...\n",
        "    gv = 100\n",
        "    print(gv)\n",
        "\n",
        "echo()\n",
        "gv #100"
      ],
      "execution_count": null,
      "outputs": [
        {
          "output_type": "stream",
          "text": [
            "100\n"
          ],
          "name": "stdout"
        },
        {
          "output_type": "execute_result",
          "data": {
            "text/plain": [
              "100"
            ]
          },
          "metadata": {
            "tags": []
          },
          "execution_count": 9
        }
      ]
    },
    {
      "cell_type": "code",
      "metadata": {
        "id": "lH8ozZanmNpE"
      },
      "source": [
        "#전역변수는 되도록 쓰지 않는 것이 좋음/ 성능상의 문제"
      ],
      "execution_count": null,
      "outputs": []
    },
    {
      "cell_type": "markdown",
      "metadata": {
        "id": "aOx-TczjmNpE"
      },
      "source": [
        "### 3. Inner Function\n",
        " - 함수가 지역 영역에 선언, 함수 안에 있는 함수"
      ]
    },
    {
      "cell_type": "code",
      "metadata": {
        "id": "of_JuSTSmNpE"
      },
      "source": [
        "def outer(a,b):\n",
        "    \n",
        "    def inner(c,d):\n",
        "        return c+d\n",
        "    return inner(a,b)"
      ],
      "execution_count": null,
      "outputs": []
    },
    {
      "cell_type": "code",
      "metadata": {
        "id": "dPSYgipKmNpE",
        "outputId": "c26269d4-e96a-4b32-abd8-ced71034614c"
      },
      "source": [
        "outer(1,2)"
      ],
      "execution_count": null,
      "outputs": [
        {
          "output_type": "execute_result",
          "data": {
            "text/plain": [
              "3"
            ]
          },
          "metadata": {
            "tags": []
          },
          "execution_count": 12
        }
      ]
    },
    {
      "cell_type": "code",
      "metadata": {
        "id": "Y7bROyP8mNpE",
        "outputId": "7cb41c95-9b21-43fa-f6a1-46f1ded59d2c"
      },
      "source": [
        "#지역 함수이므로 전역에서 사용이 불가능...\n",
        "inner(2,3)"
      ],
      "execution_count": null,
      "outputs": [
        {
          "output_type": "error",
          "ename": "NameError",
          "evalue": "name 'inner' is not defined",
          "traceback": [
            "\u001b[1;31m---------------------------------------------------------------------------\u001b[0m",
            "\u001b[1;31mNameError\u001b[0m                                 Traceback (most recent call last)",
            "\u001b[1;32m<ipython-input-13-4e1c72f26974>\u001b[0m in \u001b[0;36m<module>\u001b[1;34m\u001b[0m\n\u001b[0;32m      1\u001b[0m \u001b[1;31m#지역 함수이므로 전역에서 사용이 불가능...\u001b[0m\u001b[1;33m\u001b[0m\u001b[1;33m\u001b[0m\u001b[1;33m\u001b[0m\u001b[0m\n\u001b[1;32m----> 2\u001b[1;33m \u001b[0minner\u001b[0m\u001b[1;33m(\u001b[0m\u001b[1;36m2\u001b[0m\u001b[1;33m,\u001b[0m\u001b[1;36m3\u001b[0m\u001b[1;33m)\u001b[0m\u001b[1;33m\u001b[0m\u001b[1;33m\u001b[0m\u001b[0m\n\u001b[0m",
            "\u001b[1;31mNameError\u001b[0m: name 'inner' is not defined"
          ]
        }
      ]
    },
    {
      "cell_type": "code",
      "metadata": {
        "id": "xjzlE2A_mNpE"
      },
      "source": [
        "#내부 함수를 전역에서도 사용 가능하게 하려면....? 함수 자체를 반환\n",
        "def outer(a,b):\n",
        "    \n",
        "    def inner(c,d):\n",
        "        print(a,b)\n",
        "        return c+d\n",
        "    return inner"
      ],
      "execution_count": null,
      "outputs": []
    },
    {
      "cell_type": "code",
      "metadata": {
        "id": "ffgX6RGgmNpE",
        "outputId": "bd672454-d7b1-4cc9-9ab4-7cda6dcdad06"
      },
      "source": [
        "outer(1,2)(3,4) #inner(3,4)와 같은 결과"
      ],
      "execution_count": null,
      "outputs": [
        {
          "output_type": "stream",
          "text": [
            "1 2\n"
          ],
          "name": "stdout"
        },
        {
          "output_type": "execute_result",
          "data": {
            "text/plain": [
              "7"
            ]
          },
          "metadata": {
            "tags": []
          },
          "execution_count": 15
        }
      ]
    },
    {
      "cell_type": "code",
      "metadata": {
        "id": "FCH2ggIEmNpE"
      },
      "source": [
        "# callback function : 함수를 argument 파라미터로 설정하여 사용"
      ],
      "execution_count": null,
      "outputs": []
    },
    {
      "cell_type": "code",
      "metadata": {
        "id": "CokjRpctmNpE"
      },
      "source": [
        "def calc(func, a, b):\n",
        "    a **=2\n",
        "    b **=2\n",
        "    return func(a,b)\n",
        "#calc 안에 들어있는 func가 callback function이 됨"
      ],
      "execution_count": null,
      "outputs": []
    },
    {
      "cell_type": "code",
      "metadata": {
        "id": "1ozGPJ4TmNpE"
      },
      "source": [
        "def plus(a,b):\n",
        "    return a+b"
      ],
      "execution_count": null,
      "outputs": []
    },
    {
      "cell_type": "code",
      "metadata": {
        "id": "EA5I5E5kmNpE"
      },
      "source": [
        "def minus(a,b):\n",
        "    return a-b"
      ],
      "execution_count": null,
      "outputs": []
    },
    {
      "cell_type": "code",
      "metadata": {
        "id": "PUSKvqxGmNpE"
      },
      "source": [
        "calc(plus, 1,2) #덧셈"
      ],
      "execution_count": null,
      "outputs": []
    },
    {
      "cell_type": "code",
      "metadata": {
        "id": "Jv4GpyBnmNpE"
      },
      "source": [
        "calc(minus, 1,2)"
      ],
      "execution_count": null,
      "outputs": []
    },
    {
      "cell_type": "markdown",
      "metadata": {
        "id": "vAhg_kFSmNpE"
      },
      "source": [
        "### 4. lambda function\n",
        " - 파라미터를 간단한 계산으로 돌려주는 함수 : 삼항연산"
      ]
    },
    {
      "cell_type": "code",
      "metadata": {
        "id": "YLzsUt0zmNpE"
      },
      "source": [
        "def plus(a,b):\n",
        "    return a+b"
      ],
      "execution_count": null,
      "outputs": []
    },
    {
      "cell_type": "code",
      "metadata": {
        "id": "4FvvQBlumNpE"
      },
      "source": [
        "plus(1,2)"
      ],
      "execution_count": null,
      "outputs": []
    },
    {
      "cell_type": "code",
      "metadata": {
        "id": "62IaWs8smNpE"
      },
      "source": [
        "plus2 = lambda a, b: a+b"
      ],
      "execution_count": null,
      "outputs": []
    },
    {
      "cell_type": "code",
      "metadata": {
        "id": "vHhBhctimNpE"
      },
      "source": [
        "plus2(2,3)"
      ],
      "execution_count": null,
      "outputs": []
    },
    {
      "cell_type": "code",
      "metadata": {
        "id": "EdTjSAQvmNpE"
      },
      "source": [
        "calc(lambda a,b: a*b, 3,4)\n",
        "#호출될 때 함수가 만들어지므로 함수를 미리 만들어 둘 필요가 없음...\n",
        "#성능이 더 좋아짐"
      ],
      "execution_count": null,
      "outputs": []
    },
    {
      "cell_type": "markdown",
      "metadata": {
        "id": "4kvFlwCqmNpE"
      },
      "source": [
        "### 5. map, filter, reduce\n",
        " - map : 순서가 있는 데이터 집합에서 모든 값에 함수를 적용시킨 결과를 출력\n",
        " - "
      ]
    },
    {
      "cell_type": "code",
      "metadata": {
        "id": "E_lbgkHGmNpE"
      },
      "source": [
        "ls = [1,2,3,4]\n",
        "\n",
        "def odd_even(num):\n",
        "    return \"odd\" if num %2 else \"even\"\n",
        "\n",
        "odd_even(3), odd_even(4)\n",
        "list(map(odd_even, ls))"
      ],
      "execution_count": null,
      "outputs": []
    },
    {
      "cell_type": "code",
      "metadata": {
        "id": "CvSYgLWemNpE"
      },
      "source": [
        "# input 함수로 구분자는 \" \"로여러 숫자를 입력 받기\n",
        "# str.split(\" \")리스트로 만들기\n",
        "# 만들어진 리스트의 값들을 int 형변환"
      ],
      "execution_count": null,
      "outputs": []
    },
    {
      "cell_type": "code",
      "metadata": {
        "id": "b5KuG60XmNpE"
      },
      "source": [
        "datas = input(\"insert numbers :\")"
      ],
      "execution_count": null,
      "outputs": []
    },
    {
      "cell_type": "code",
      "metadata": {
        "id": "tOn_3RR9mNpF"
      },
      "source": [
        "result = datas.split(\" \")"
      ],
      "execution_count": null,
      "outputs": []
    },
    {
      "cell_type": "code",
      "metadata": {
        "id": "p76t0Oa3mNpF"
      },
      "source": [
        "result = list(map(int, result))\n",
        "result"
      ],
      "execution_count": null,
      "outputs": []
    },
    {
      "cell_type": "markdown",
      "metadata": {
        "id": "fwAFhEkQmNpF"
      },
      "source": [
        "#### Filter\n",
        " - 리스트 데이터에서 특정 조건에 맞는 value만 남기는 함수"
      ]
    },
    {
      "cell_type": "code",
      "metadata": {
        "id": "3O3e5Sl6mNpF"
      },
      "source": [
        "ls = range(10)"
      ],
      "execution_count": null,
      "outputs": []
    },
    {
      "cell_type": "code",
      "metadata": {
        "id": "iVT1ZtXSmNpF",
        "outputId": "367da713-d461-4e87-9657-5784a82d1ada"
      },
      "source": [
        "# 홀수만 출력\n",
        "list(filter(lambda data: True if data%2 else False, ls))"
      ],
      "execution_count": null,
      "outputs": [
        {
          "output_type": "execute_result",
          "data": {
            "text/plain": [
              "[1, 3, 5, 7, 9]"
            ]
          },
          "metadata": {
            "tags": []
          },
          "execution_count": 21
        }
      ]
    },
    {
      "cell_type": "markdown",
      "metadata": {
        "id": "Cc2FQQrlmNpF"
      },
      "source": [
        "#### Reduce\n",
        " - 리스트 데이터를 처음부터 순서대로 특정 함수를 실행하여 결과를 누적시켜주는 함수"
      ]
    },
    {
      "cell_type": "code",
      "metadata": {
        "id": "PTlYwClWmNpF"
      },
      "source": [
        "from functools import reduce"
      ],
      "execution_count": null,
      "outputs": []
    },
    {
      "cell_type": "code",
      "metadata": {
        "id": "D-_uz4oQmNpF",
        "outputId": "b054ec13-7130-4439-cf47-f162b7d5cda2"
      },
      "source": [
        "ls = [3,1,2,4,5]\n",
        "reduce(lambda x,y: x+y, ls)"
      ],
      "execution_count": null,
      "outputs": [
        {
          "output_type": "execute_result",
          "data": {
            "text/plain": [
              "15"
            ]
          },
          "metadata": {
            "tags": []
          },
          "execution_count": 23
        }
      ]
    },
    {
      "cell_type": "markdown",
      "metadata": {
        "id": "J1Q0euUkmNpF"
      },
      "source": [
        "### 6. Decorator\n",
        " - 코드를 바꾸지 않고 기능을 추가하거나 수정하고 싶을 때 사용\n",
        " ```\n",
        " def a():\n",
        "     code_1\n",
        "     code_2\n",
        "     code_3\n",
        " def b():\n",
        "     code_1\n",
        "     code_3\n",
        " ```\n",
        "  - 데코레이터의 사용\n",
        "  ```\n",
        "  def c(func):\n",
        "  \n",
        "      def wrapper(*args, **kwargs):\n",
        "          code_1\n",
        "          result = func(*args, **kwargs)\n",
        "          code_3\n",
        "          return result\n",
        "          \n",
        "      return wrapper\n",
        "  @c\n",
        "  def a():\n",
        "      code_2\n",
        "  @c\n",
        "  def b():\n",
        "      code_4\n",
        "      \n",
        "  ```"
      ]
    },
    {
      "cell_type": "code",
      "metadata": {
        "id": "L5A138Z8mNpF"
      },
      "source": [
        "#a\n",
        "def plus(a,b):\n",
        "    print(\"start\")         #code1\n",
        "    result = a+b    #code2\n",
        "    print(\"result: {}\".format(result))         #code3\n",
        "    return result"
      ],
      "execution_count": null,
      "outputs": []
    },
    {
      "cell_type": "code",
      "metadata": {
        "id": "ny0-uspTmNpF"
      },
      "source": [
        "#b\n",
        "def minus(a,b):\n",
        "    print(\"start\")                     #code1\n",
        "    result=a-b  #code2\n",
        "    print(\"result: {}\".format(result))  #code3\n",
        "    return result"
      ],
      "execution_count": null,
      "outputs": []
    },
    {
      "cell_type": "code",
      "metadata": {
        "id": "E7OvZkPcmNpF"
      },
      "source": [
        "#c\n",
        "def disp(func):\n",
        "    def wrapper(*args, **kwargs):\n",
        "        print(\"start\")\n",
        "        result = func(*args, **kwargs)\n",
        "        print(\"result: {}\".format(result))\n",
        "        return result\n",
        "    return wrapper"
      ],
      "execution_count": null,
      "outputs": []
    },
    {
      "cell_type": "code",
      "metadata": {
        "id": "k4BcaBz6mNpF"
      },
      "source": [
        "@disp\n",
        "def plus(a,b):\n",
        "    result=a+b\n",
        "    return result"
      ],
      "execution_count": null,
      "outputs": []
    },
    {
      "cell_type": "code",
      "metadata": {
        "id": "RmX3vpiEmNpF",
        "outputId": "8318d3ca-b5e6-4f00-88f7-b0b6a74d6670"
      },
      "source": [
        "plus(1,2)"
      ],
      "execution_count": null,
      "outputs": [
        {
          "output_type": "stream",
          "text": [
            "start\n",
            "result: 3\n"
          ],
          "name": "stdout"
        },
        {
          "output_type": "execute_result",
          "data": {
            "text/plain": [
              "3"
            ]
          },
          "metadata": {
            "tags": []
          },
          "execution_count": 28
        }
      ]
    },
    {
      "cell_type": "code",
      "metadata": {
        "id": "jRbLY4QmmNpF"
      },
      "source": [
        "import time"
      ],
      "execution_count": null,
      "outputs": []
    },
    {
      "cell_type": "code",
      "metadata": {
        "id": "lneVfh2BmNpF"
      },
      "source": [
        "def timer(func):\n",
        "    def wrapper(*args, **kwargs):\n",
        "        start_time = time.time()\n",
        "        result = func(*args, **kwargs)\n",
        "        end_time = time.time()\n",
        "        print(\"running_time: {}\".format(end_time-start_time))\n",
        "        return result\n",
        "    return wrapper"
      ],
      "execution_count": null,
      "outputs": []
    },
    {
      "cell_type": "code",
      "metadata": {
        "id": "aSQ6VGC9mNpF"
      },
      "source": [
        "@timer\n",
        "def test1(num1, num2):\n",
        "    data = range(num1, num2+1)\n",
        "    return sum(data)"
      ],
      "execution_count": null,
      "outputs": []
    },
    {
      "cell_type": "code",
      "metadata": {
        "id": "b1rVkyJBmNpF"
      },
      "source": [
        "@timer\n",
        "def test2(num1, num2):\n",
        "    result =0\n",
        "    for num in range(num1, num2+1):\n",
        "        result+=num\n",
        "    return result"
      ],
      "execution_count": null,
      "outputs": []
    },
    {
      "cell_type": "code",
      "metadata": {
        "id": "UYc5ZNIamNpF",
        "outputId": "467fb1f3-6797-452d-dcda-8595a1107f96"
      },
      "source": [
        "test1(1, 10000)"
      ],
      "execution_count": null,
      "outputs": [
        {
          "output_type": "stream",
          "text": [
            "running_time: 0.0009975433349609375\n"
          ],
          "name": "stdout"
        },
        {
          "output_type": "execute_result",
          "data": {
            "text/plain": [
              "50005000"
            ]
          },
          "metadata": {
            "tags": []
          },
          "execution_count": 42
        }
      ]
    },
    {
      "cell_type": "code",
      "metadata": {
        "id": "51y8Cvx0mNpF",
        "outputId": "0cce7c98-5dc2-44c7-abe5-b113757e92eb"
      },
      "source": [
        "test2(1, 10000)"
      ],
      "execution_count": null,
      "outputs": [
        {
          "output_type": "stream",
          "text": [
            "running_time: 0.0009975433349609375\n"
          ],
          "name": "stdout"
        },
        {
          "output_type": "execute_result",
          "data": {
            "text/plain": [
              "50005000"
            ]
          },
          "metadata": {
            "tags": []
          },
          "execution_count": 41
        }
      ]
    },
    {
      "cell_type": "code",
      "metadata": {
        "id": "FpVbxoVamNpF"
      },
      "source": [
        "#패스워드를 입력받아야 함수가 실행되도록 데코레이터 작성"
      ],
      "execution_count": null,
      "outputs": []
    },
    {
      "cell_type": "code",
      "metadata": {
        "id": "8rnNQ1EDmNpF"
      },
      "source": [
        "def check_password(func):\n",
        "    def wrapper(*args, **kwargs):\n",
        "        pw = 'dssl1'\n",
        "        \n",
        "        #check password\n",
        "        input_pw= input(\"insert pw:\")\n",
        "        if input_pw == pw:\n",
        "            result = func(*args, **kwargs)\n",
        "        else:\n",
        "            result = \"not allow!\"\n",
        "        \n",
        "        return result\n",
        "    return wrapper"
      ],
      "execution_count": null,
      "outputs": []
    },
    {
      "cell_type": "code",
      "metadata": {
        "id": "Ac-bzFEimNpF"
      },
      "source": [
        "@check_password\n",
        "def plus(a,b):\n",
        "    return a+b"
      ],
      "execution_count": null,
      "outputs": []
    },
    {
      "cell_type": "code",
      "metadata": {
        "id": "L7zOkSAFmNpF",
        "outputId": "08302dff-e1f3-49d3-b59f-8e60a2221d30"
      },
      "source": [
        "plus(1,2)"
      ],
      "execution_count": null,
      "outputs": [
        {
          "output_type": "stream",
          "text": [
            "insert pw:test\n"
          ],
          "name": "stdout"
        },
        {
          "output_type": "execute_result",
          "data": {
            "text/plain": [
              "'not allow!'"
            ]
          },
          "metadata": {
            "tags": []
          },
          "execution_count": 56
        }
      ]
    },
    {
      "cell_type": "code",
      "metadata": {
        "id": "wwNmOOhdmNpF"
      },
      "source": [
        "def lotto_func():\n",
        "    lotto = []\n",
        "    while True:\n",
        "        number = random.randint(1,45)\n",
        "        if number not in lotto:\n",
        "            lotto.append(number)\n",
        "        if len(lotto)>=6:\n",
        "            lotto.sort()\n",
        "            break\n",
        "    return lotto"
      ],
      "execution_count": null,
      "outputs": []
    },
    {
      "cell_type": "code",
      "metadata": {
        "id": "LM6qlx7LmNpF",
        "outputId": "75c59af3-564b-43ef-db3d-36bc96e72ad2"
      },
      "source": [
        "lotto_func()"
      ],
      "execution_count": null,
      "outputs": [
        {
          "output_type": "execute_result",
          "data": {
            "text/plain": [
              "[13, 14, 28, 34, 39, 45]"
            ]
          },
          "metadata": {
            "tags": []
          },
          "execution_count": 50
        }
      ]
    },
    {
      "cell_type": "code",
      "metadata": {
        "id": "s1G7KbQ3mNpF"
      },
      "source": [
        ""
      ],
      "execution_count": null,
      "outputs": []
    },
    {
      "cell_type": "code",
      "metadata": {
        "id": "2AxgPcsAmNpF"
      },
      "source": [
        ""
      ],
      "execution_count": null,
      "outputs": []
    },
    {
      "cell_type": "code",
      "metadata": {
        "id": "1ajwDGRlmNpF"
      },
      "source": [
        ""
      ],
      "execution_count": null,
      "outputs": []
    },
    {
      "cell_type": "code",
      "metadata": {
        "id": "vtkFq-3xmNpF"
      },
      "source": [
        ""
      ],
      "execution_count": null,
      "outputs": []
    },
    {
      "cell_type": "code",
      "metadata": {
        "id": "1u2w946dmNpF"
      },
      "source": [
        ""
      ],
      "execution_count": null,
      "outputs": []
    },
    {
      "cell_type": "code",
      "metadata": {
        "id": "TRl1lzx4mNpF"
      },
      "source": [
        ""
      ],
      "execution_count": null,
      "outputs": []
    },
    {
      "cell_type": "code",
      "metadata": {
        "id": "DOqk4nA6mNpF"
      },
      "source": [
        ""
      ],
      "execution_count": null,
      "outputs": []
    },
    {
      "cell_type": "code",
      "metadata": {
        "id": "j_7KOybUmNpF"
      },
      "source": [
        ""
      ],
      "execution_count": null,
      "outputs": []
    },
    {
      "cell_type": "code",
      "metadata": {
        "id": "CtqBjF6emNpF"
      },
      "source": [
        ""
      ],
      "execution_count": null,
      "outputs": []
    },
    {
      "cell_type": "code",
      "metadata": {
        "id": "qCXfe-KumNpF"
      },
      "source": [
        ""
      ],
      "execution_count": null,
      "outputs": []
    }
  ]
}