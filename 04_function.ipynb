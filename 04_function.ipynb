{
  "nbformat": 4,
  "nbformat_minor": 0,
  "metadata": {
    "kernelspec": {
      "display_name": "Python 3",
      "language": "python",
      "name": "python3"
    },
    "language_info": {
      "codemirror_mode": {
        "name": "ipython",
        "version": 3
      },
      "file_extension": ".py",
      "mimetype": "text/x-python",
      "name": "python",
      "nbconvert_exporter": "python",
      "pygments_lexer": "ipython3",
      "version": "3.7.6"
    },
    "colab": {
      "name": "04_function.ipynb",
      "provenance": [],
      "include_colab_link": true
    }
  },
  "cells": [
    {
      "cell_type": "markdown",
      "metadata": {
        "id": "view-in-github",
        "colab_type": "text"
      },
      "source": [
        "<a href=\"https://colab.research.google.com/github/WisdomerLee/DeepLearning/blob/main/04_function.ipynb\" target=\"_parent\"><img src=\"https://colab.research.google.com/assets/colab-badge.svg\" alt=\"Open In Colab\"/></a>"
      ]
    },
    {
      "cell_type": "markdown",
      "metadata": {
        "id": "RohjjOddmBdx"
      },
      "source": [
        "### 함수\n",
        " - 반복되는 코드를 묶음으로 효율적인 코드를 작성\n",
        " - 기본 함수\n",
        " - 파라미터와 argument\n",
        " - 반환\n",
        " - '**args', '***kwargs'\n",
        " - docstring\n",
        " - scope\n",
        " - inner function\n",
        " - lambda function\n",
        " - Map, Filter, Reduce\n",
        " - Decorlator"
      ]
    },
    {
      "cell_type": "markdown",
      "metadata": {
        "id": "wkRXuMnYmBdy"
      },
      "source": [
        "### 1. 기본 함수\n",
        "- 선언과 호출"
      ]
    },
    {
      "cell_type": "code",
      "metadata": {
        "id": "DJLt_L5QmBdy",
        "outputId": "ab3d4bbf-1ff3-4bb8-845a-1ecde05d74cd"
      },
      "source": [
        "point = 88\n",
        "if point>=90:\n",
        "    print(\"A\")\n",
        "elif point>=80:\n",
        "    print(\"B\")\n",
        "else:\n",
        "    print(\"C\")"
      ],
      "execution_count": null,
      "outputs": [
        {
          "output_type": "stream",
          "text": [
            "B\n"
          ],
          "name": "stdout"
        }
      ]
    },
    {
      "cell_type": "code",
      "metadata": {
        "id": "GVdeC8_2mBdz"
      },
      "source": [
        "# code .."
      ],
      "execution_count": null,
      "outputs": []
    },
    {
      "cell_type": "code",
      "metadata": {
        "id": "VY9hIgunmBdz"
      },
      "source": [
        "# 함수 선언\n",
        "def grade(point):\n",
        "    if point>=90:\n",
        "        print(\"A\")\n",
        "    elif point>=80:\n",
        "        print(\"B\")\n",
        "    else:\n",
        "        print(\"C\")"
      ],
      "execution_count": null,
      "outputs": []
    },
    {
      "cell_type": "code",
      "metadata": {
        "id": "mNeLQ4aSmBdz",
        "outputId": "8536d9ad-2f8a-48f9-9eac-677aef5e6e64"
      },
      "source": [
        "# 함수 호출\n",
        "grade(88)"
      ],
      "execution_count": null,
      "outputs": [
        {
          "output_type": "stream",
          "text": [
            "B\n"
          ],
          "name": "stdout"
        }
      ]
    },
    {
      "cell_type": "code",
      "metadata": {
        "id": "1D1O0OYwmBdz",
        "outputId": "94400e5b-d30f-4886-ec6f-7a122b6cf6d5"
      },
      "source": [
        "%reset"
      ],
      "execution_count": null,
      "outputs": [
        {
          "output_type": "stream",
          "text": [
            "Once deleted, variables cannot be recovered. Proceed (y/[n])? y\n"
          ],
          "name": "stdout"
        }
      ]
    },
    {
      "cell_type": "code",
      "metadata": {
        "id": "wUNdCIjGmBdz"
      },
      "source": [
        "# 함수 선언\n",
        "def grade(point):\n",
        "    if point>=90:\n",
        "        print(\"A\")\n",
        "    elif point>=80:\n",
        "        print(\"B\")\n",
        "    else:\n",
        "        print(\"C\")"
      ],
      "execution_count": null,
      "outputs": []
    },
    {
      "cell_type": "code",
      "metadata": {
        "id": "U_q4kKXNmBdz"
      },
      "source": [
        "a = 1\n",
        "ls=[1,2,3]"
      ],
      "execution_count": null,
      "outputs": []
    },
    {
      "cell_type": "code",
      "metadata": {
        "id": "gmjJcxn2mBd0",
        "outputId": "0d19da59-21b6-448f-c1d8-e572bbaae947"
      },
      "source": [
        "%whos"
      ],
      "execution_count": null,
      "outputs": [
        {
          "output_type": "stream",
          "text": [
            "Variable   Type        Data/Info\n",
            "--------------------------------\n",
            "a          int         1\n",
            "grade      function    <function grade at 0x000001D2320308B8>\n",
            "ls         list        n=3\n"
          ],
          "name": "stdout"
        }
      ]
    },
    {
      "cell_type": "markdown",
      "metadata": {
        "id": "vTSShRRXmBd0"
      },
      "source": [
        "### 2. 파라미터와 아규먼트\n",
        " - 파라미터: 함수를 선언할 때 호출하는 부분에서 보내주는 데이터를 받는 변수\n",
        " - 아규먼트: 함수를 호출할 때 함수에 보내주는 데이터"
      ]
    },
    {
      "cell_type": "code",
      "metadata": {
        "id": "DAKrZjOpmBd0"
      },
      "source": [
        "def plus(num1, num2=10, num3=20) : # 파라미터 : 디폴트 파라미터\n",
        "    print(num1+num2-num3)"
      ],
      "execution_count": null,
      "outputs": []
    },
    {
      "cell_type": "code",
      "metadata": {
        "id": "NoFQ2s7TmBd0",
        "outputId": "b4a6c44b-5dbf-4aed-80a6-080de6c08c48"
      },
      "source": [
        "plus(1,5) #아규먼트"
      ],
      "execution_count": null,
      "outputs": [
        {
          "output_type": "stream",
          "text": [
            "-14\n"
          ],
          "name": "stdout"
        }
      ]
    },
    {
      "cell_type": "code",
      "metadata": {
        "id": "CuYL1VaQmBd0",
        "outputId": "4c4285a5-6dd4-48d1-a331-d45089e22db7"
      },
      "source": [
        "plus(1,2,3)"
      ],
      "execution_count": null,
      "outputs": [
        {
          "output_type": "stream",
          "text": [
            "0\n"
          ],
          "name": "stdout"
        }
      ]
    },
    {
      "cell_type": "code",
      "metadata": {
        "id": "yDGkb8WvmBd0",
        "outputId": "2ff7a5d5-a76b-4d67-b0fd-04230aaef69c"
      },
      "source": [
        "plus(3)"
      ],
      "execution_count": null,
      "outputs": [
        {
          "output_type": "stream",
          "text": [
            "-7\n"
          ],
          "name": "stdout"
        }
      ]
    },
    {
      "cell_type": "code",
      "metadata": {
        "id": "QFjqozAKmBd0",
        "outputId": "8dfd9bcf-0267-4c42-eb94-8497d65b2dee"
      },
      "source": [
        "plus(3, num3=100) #아규먼트: 키워드 아규먼트"
      ],
      "execution_count": null,
      "outputs": [
        {
          "output_type": "stream",
          "text": [
            "-87\n"
          ],
          "name": "stdout"
        }
      ]
    },
    {
      "cell_type": "code",
      "metadata": {
        "id": "rCOG0osKmBd0"
      },
      "source": [
        ""
      ],
      "execution_count": null,
      "outputs": []
    },
    {
      "cell_type": "markdown",
      "metadata": {
        "id": "SKMOVQgjmBd0"
      },
      "source": [
        "### 3. 리턴\n",
        " - 함수를 실행한 결과를 저장하고 싶을 때 사용\n",
        " - return"
      ]
    },
    {
      "cell_type": "code",
      "metadata": {
        "id": "h2hMDA6wmBd0"
      },
      "source": [
        "def plus(num1, num2):\n",
        "    print(num1+num2)\n",
        "    return num1+num2"
      ],
      "execution_count": null,
      "outputs": []
    },
    {
      "cell_type": "code",
      "metadata": {
        "id": "bmYHdo24mBd0",
        "outputId": "098468b4-e4fa-487a-e97c-33002d6e2921"
      },
      "source": [
        "result = plus(1,2)\n",
        "print(result)"
      ],
      "execution_count": null,
      "outputs": [
        {
          "output_type": "stream",
          "text": [
            "3\n",
            "3\n"
          ],
          "name": "stdout"
        }
      ]
    },
    {
      "cell_type": "code",
      "metadata": {
        "id": "B1swwv1AmBd0",
        "outputId": "cbea5a6f-b765-47c3-9729-60cf7fe3752f"
      },
      "source": [
        "data1 = \"python\"\n",
        "result = data1.upper()\n",
        "print(result)"
      ],
      "execution_count": null,
      "outputs": [
        {
          "output_type": "stream",
          "text": [
            "PYTHON\n"
          ],
          "name": "stdout"
        }
      ]
    },
    {
      "cell_type": "code",
      "metadata": {
        "id": "kxXJ3WPlmBd0",
        "outputId": "f2527f89-42d2-4b71-fc57-fce4d4522bf0"
      },
      "source": [
        "data2 =[3,1,2,]\n",
        "result = data2.sort()\n",
        "print(result)"
      ],
      "execution_count": null,
      "outputs": [
        {
          "output_type": "stream",
          "text": [
            "None\n"
          ],
          "name": "stdout"
        }
      ]
    },
    {
      "cell_type": "code",
      "metadata": {
        "id": "IPucakvImBd0",
        "outputId": "0727508e-7dc0-4770-93d0-0143b0bb7736"
      },
      "source": [
        "point = 88\n",
        "result = grade(point)\n",
        "print(result)"
      ],
      "execution_count": null,
      "outputs": [
        {
          "output_type": "stream",
          "text": [
            "B\n",
            "None\n"
          ],
          "name": "stdout"
        }
      ]
    },
    {
      "cell_type": "code",
      "metadata": {
        "id": "TNVNATedmBd0",
        "outputId": "eb3f04b4-e0b7-43d4-c6f9-c40d2796fc3e"
      },
      "source": [
        "if result == \"A\":\n",
        "    print(\"pass\")\n",
        "else:\n",
        "    print(\"fail\")"
      ],
      "execution_count": null,
      "outputs": [
        {
          "output_type": "stream",
          "text": [
            "fail\n"
          ],
          "name": "stdout"
        }
      ]
    },
    {
      "cell_type": "code",
      "metadata": {
        "id": "XUPdWtDQmBd0"
      },
      "source": [
        "# 함수 선언\n",
        "def grade(point):\n",
        "    if point>=90:\n",
        "        return \"A\"\n",
        "    elif point>=80:\n",
        "        return \"B\"\n",
        "    else:\n",
        "        return \"C\""
      ],
      "execution_count": null,
      "outputs": []
    },
    {
      "cell_type": "code",
      "metadata": {
        "id": "kozGWUVQmBd0",
        "outputId": "59232a86-dfb5-4942-92ee-51cfb83d158f"
      },
      "source": [
        "point =92\n",
        "result = grade(point)\n",
        "print(result)"
      ],
      "execution_count": null,
      "outputs": [
        {
          "output_type": "stream",
          "text": [
            "A\n"
          ],
          "name": "stdout"
        }
      ]
    },
    {
      "cell_type": "code",
      "metadata": {
        "id": "OjZGAZdAmBd0",
        "outputId": "fb6e9173-ca40-482c-eb31-8a12ff93f898"
      },
      "source": [
        "if result == \"A\":\n",
        "    print(\"pass\")\n",
        "else:\n",
        "    print(\"fail\")"
      ],
      "execution_count": null,
      "outputs": [
        {
          "output_type": "stream",
          "text": [
            "pass\n"
          ],
          "name": "stdout"
        }
      ]
    },
    {
      "cell_type": "code",
      "metadata": {
        "id": "CE_aXhjQmBd0"
      },
      "source": [
        "#함수에서 return 코드가 실행되면 무조건 함수 코드 실행이 끝\n",
        "def echo(msg):\n",
        "    if msg == \"quit\":\n",
        "        return\n",
        "    print(msg)"
      ],
      "execution_count": null,
      "outputs": []
    },
    {
      "cell_type": "code",
      "metadata": {
        "id": "RzstmPo5mBd0",
        "outputId": "4502ac1a-5c3d-49de-8b94-96b2badf0c9a"
      },
      "source": [
        "echo(\"python\")"
      ],
      "execution_count": null,
      "outputs": [
        {
          "output_type": "stream",
          "text": [
            "python\n"
          ],
          "name": "stdout"
        }
      ]
    },
    {
      "cell_type": "code",
      "metadata": {
        "id": "rN7DfA0cmBd1"
      },
      "source": [
        "echo(\"quit\")"
      ],
      "execution_count": null,
      "outputs": []
    },
    {
      "cell_type": "markdown",
      "metadata": {
        "id": "VL6hR91lmBd1"
      },
      "source": [
        "### 4. `*args, **kwargs`\n",
        " - 함수를 호출할 때 아규먼트와 키워드 아규먼트의 갯수를 특정지을 수 없을 때 사용"
      ]
    },
    {
      "cell_type": "code",
      "metadata": {
        "id": "olWePioUmBd1"
      },
      "source": [
        "def plus(*args, **kwargs):\n",
        "    print(type(args), args)\n",
        "    print(type(kwargs), kwargs)\n",
        "    return sum(args) + sum(list(kwargs.values()))"
      ],
      "execution_count": null,
      "outputs": []
    },
    {
      "cell_type": "code",
      "metadata": {
        "id": "BiMTsUyJmBd1",
        "outputId": "b330653d-7de4-4ba4-bf7f-0b3eb3c61508"
      },
      "source": [
        "plus(1,2)"
      ],
      "execution_count": null,
      "outputs": [
        {
          "output_type": "stream",
          "text": [
            "<class 'tuple'> (1, 2)\n"
          ],
          "name": "stdout"
        },
        {
          "output_type": "execute_result",
          "data": {
            "text/plain": [
              "3"
            ]
          },
          "metadata": {
            "tags": []
          },
          "execution_count": 49
        }
      ]
    },
    {
      "cell_type": "code",
      "metadata": {
        "id": "1uPvTRrVmBd1",
        "outputId": "65cb9f1a-a91c-4490-dc6a-a5434a033f5a"
      },
      "source": [
        "plus(1,2,3,4,5, num1=6, num2=7)"
      ],
      "execution_count": null,
      "outputs": [
        {
          "output_type": "stream",
          "text": [
            "<class 'tuple'> (1, 2, 3, 4, 5)\n",
            "<class 'dict'> {'num1': 6, 'num2': 7}\n"
          ],
          "name": "stdout"
        },
        {
          "output_type": "execute_result",
          "data": {
            "text/plain": [
              "28"
            ]
          },
          "metadata": {
            "tags": []
          },
          "execution_count": 54
        }
      ]
    },
    {
      "cell_type": "code",
      "metadata": {
        "id": "tj4rQUMKmBd1"
      },
      "source": [
        "def func(num1, num2=10, num3=20):\n",
        "    return sum(num1)+num2+num3\n",
        "data = [1,2,3]\n",
        "#func(*data) # func(1,2,3) 각각의 아규먼트로 묶여서 함수에 처리됨"
      ],
      "execution_count": null,
      "outputs": []
    },
    {
      "cell_type": "code",
      "metadata": {
        "id": "cel5ljkqmBd1",
        "outputId": "461c1ce1-74ad-4435-959c-ef7e7a0114f6"
      },
      "source": [
        "func(data) #func([1,2,3])"
      ],
      "execution_count": null,
      "outputs": [
        {
          "output_type": "execute_result",
          "data": {
            "text/plain": [
              "36"
            ]
          },
          "metadata": {
            "tags": []
          },
          "execution_count": 63
        }
      ]
    },
    {
      "cell_type": "code",
      "metadata": {
        "id": "cVwo96pXmBd1"
      },
      "source": [
        ""
      ],
      "execution_count": null,
      "outputs": []
    },
    {
      "cell_type": "code",
      "metadata": {
        "id": "9E4cFI0VmBd1"
      },
      "source": [
        ""
      ],
      "execution_count": null,
      "outputs": []
    },
    {
      "cell_type": "code",
      "metadata": {
        "id": "bCV1hmV5mBd1"
      },
      "source": [
        ""
      ],
      "execution_count": null,
      "outputs": []
    },
    {
      "cell_type": "code",
      "metadata": {
        "id": "hH6zURg2mBd1"
      },
      "source": [
        ""
      ],
      "execution_count": null,
      "outputs": []
    },
    {
      "cell_type": "code",
      "metadata": {
        "id": "qJJP5Jr9mBd1"
      },
      "source": [
        ""
      ],
      "execution_count": null,
      "outputs": []
    },
    {
      "cell_type": "code",
      "metadata": {
        "id": "8hZisw8cmBd1"
      },
      "source": [
        ""
      ],
      "execution_count": null,
      "outputs": []
    },
    {
      "cell_type": "code",
      "metadata": {
        "id": "zs63utxQmBd1"
      },
      "source": [
        ""
      ],
      "execution_count": null,
      "outputs": []
    }
  ]
}